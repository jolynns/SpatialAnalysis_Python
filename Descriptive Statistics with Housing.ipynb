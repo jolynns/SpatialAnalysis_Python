{
 "cells": [
  {
   "cell_type": "markdown",
   "metadata": {},
   "source": [
    "# Descriptive Statistics\n"
   ]
  },
  {
   "cell_type": "markdown",
   "metadata": {},
   "source": [
    "Descriptive statistics give the first insights into your data. This notebook will guide you through using pandas to gather and display the basic statistics of your dataset."
   ]
  },
  {
   "cell_type": "markdown",
   "metadata": {},
   "source": [
    "## Data\n",
    "The data I use is available for downloaded from the kaggle housing challenge, a free login is requried.  \n",
    "\n",
    "https://www.kaggle.com/camnugent/california-housing-prices/data\n",
    "\n",
    "The data should reside in the same directory as this notebook, or the full path can be specified below."
   ]
  },
  {
   "cell_type": "code",
   "execution_count": 1,
   "metadata": {},
   "outputs": [],
   "source": [
    "# Jolynn Schmidt\n",
    "# basic descriptive stats with Python\n",
    "import pandas as pd\n",
    "import matplotlib.pyplot as plt\n",
    "import numpy as np\n",
    "\n",
    "# set the filename and the name of the column we will explore\n",
    "my_data = \"data/housing.csv\"\n",
    "col_name = \"median_house_value\""
   ]
  },
  {
   "cell_type": "markdown",
   "metadata": {},
   "source": [
    "#### Dataframes\n",
    "Lets get started by just reading in the data and looking at it. The panda package has a function for reading in a csv file and creating a dataframe. The dataframe is a 2-dimensional labeled data structure and will include all rows and columns from the csv."
   ]
  },
  {
   "cell_type": "code",
   "execution_count": 2,
   "metadata": {
    "scrolled": true
   },
   "outputs": [
    {
     "data": {
      "text/html": [
       "<div>\n",
       "<style scoped>\n",
       "    .dataframe tbody tr th:only-of-type {\n",
       "        vertical-align: middle;\n",
       "    }\n",
       "\n",
       "    .dataframe tbody tr th {\n",
       "        vertical-align: top;\n",
       "    }\n",
       "\n",
       "    .dataframe thead th {\n",
       "        text-align: right;\n",
       "    }\n",
       "</style>\n",
       "<table border=\"1\" class=\"dataframe\">\n",
       "  <thead>\n",
       "    <tr style=\"text-align: right;\">\n",
       "      <th></th>\n",
       "      <th>longitude</th>\n",
       "      <th>latitude</th>\n",
       "      <th>housing_median_age</th>\n",
       "      <th>total_rooms</th>\n",
       "      <th>total_bedrooms</th>\n",
       "      <th>population</th>\n",
       "      <th>households</th>\n",
       "      <th>median_income</th>\n",
       "      <th>median_house_value</th>\n",
       "      <th>ocean_proximity</th>\n",
       "    </tr>\n",
       "  </thead>\n",
       "  <tbody>\n",
       "    <tr>\n",
       "      <th>0</th>\n",
       "      <td>-122.23</td>\n",
       "      <td>37.88</td>\n",
       "      <td>41.0</td>\n",
       "      <td>880.0</td>\n",
       "      <td>129.0</td>\n",
       "      <td>322.0</td>\n",
       "      <td>126.0</td>\n",
       "      <td>8.3252</td>\n",
       "      <td>452600.0</td>\n",
       "      <td>NEAR BAY</td>\n",
       "    </tr>\n",
       "    <tr>\n",
       "      <th>1</th>\n",
       "      <td>-122.22</td>\n",
       "      <td>37.86</td>\n",
       "      <td>21.0</td>\n",
       "      <td>7099.0</td>\n",
       "      <td>1106.0</td>\n",
       "      <td>2401.0</td>\n",
       "      <td>1138.0</td>\n",
       "      <td>8.3014</td>\n",
       "      <td>358500.0</td>\n",
       "      <td>NEAR BAY</td>\n",
       "    </tr>\n",
       "    <tr>\n",
       "      <th>2</th>\n",
       "      <td>-122.24</td>\n",
       "      <td>37.85</td>\n",
       "      <td>52.0</td>\n",
       "      <td>1467.0</td>\n",
       "      <td>190.0</td>\n",
       "      <td>496.0</td>\n",
       "      <td>177.0</td>\n",
       "      <td>7.2574</td>\n",
       "      <td>352100.0</td>\n",
       "      <td>NEAR BAY</td>\n",
       "    </tr>\n",
       "    <tr>\n",
       "      <th>3</th>\n",
       "      <td>-122.25</td>\n",
       "      <td>37.85</td>\n",
       "      <td>52.0</td>\n",
       "      <td>1274.0</td>\n",
       "      <td>235.0</td>\n",
       "      <td>558.0</td>\n",
       "      <td>219.0</td>\n",
       "      <td>5.6431</td>\n",
       "      <td>341300.0</td>\n",
       "      <td>NEAR BAY</td>\n",
       "    </tr>\n",
       "    <tr>\n",
       "      <th>4</th>\n",
       "      <td>-122.25</td>\n",
       "      <td>37.85</td>\n",
       "      <td>52.0</td>\n",
       "      <td>1627.0</td>\n",
       "      <td>280.0</td>\n",
       "      <td>565.0</td>\n",
       "      <td>259.0</td>\n",
       "      <td>3.8462</td>\n",
       "      <td>342200.0</td>\n",
       "      <td>NEAR BAY</td>\n",
       "    </tr>\n",
       "  </tbody>\n",
       "</table>\n",
       "</div>"
      ],
      "text/plain": [
       "   longitude  latitude  housing_median_age  total_rooms  total_bedrooms  \\\n",
       "0    -122.23     37.88                41.0        880.0           129.0   \n",
       "1    -122.22     37.86                21.0       7099.0          1106.0   \n",
       "2    -122.24     37.85                52.0       1467.0           190.0   \n",
       "3    -122.25     37.85                52.0       1274.0           235.0   \n",
       "4    -122.25     37.85                52.0       1627.0           280.0   \n",
       "\n",
       "   population  households  median_income  median_house_value ocean_proximity  \n",
       "0       322.0       126.0         8.3252            452600.0        NEAR BAY  \n",
       "1      2401.0      1138.0         8.3014            358500.0        NEAR BAY  \n",
       "2       496.0       177.0         7.2574            352100.0        NEAR BAY  \n",
       "3       558.0       219.0         5.6431            341300.0        NEAR BAY  \n",
       "4       565.0       259.0         3.8462            342200.0        NEAR BAY  "
      ]
     },
     "execution_count": 2,
     "metadata": {},
     "output_type": "execute_result"
    }
   ],
   "source": [
    "# read in the csv and check out the data\n",
    "df = pd.read_csv(my_data)\n",
    "df.head(5)\n"
   ]
  },
  {
   "cell_type": "markdown",
   "metadata": {},
   "source": [
    "A quick overview of the data shows that the values given are for groups of homes. Such as total rooms and total bedrooms. I will break these out into mean values per household."
   ]
  },
  {
   "cell_type": "markdown",
   "metadata": {},
   "source": [
    "#### Data type\n",
    "You can view the data types for each column using .dtypes. The columns are referenced by the column heading."
   ]
  },
  {
   "cell_type": "code",
   "execution_count": 3,
   "metadata": {},
   "outputs": [
    {
     "data": {
      "text/plain": [
       "longitude             float64\n",
       "latitude              float64\n",
       "housing_median_age    float64\n",
       "total_rooms           float64\n",
       "total_bedrooms        float64\n",
       "population            float64\n",
       "households            float64\n",
       "median_income         float64\n",
       "median_house_value    float64\n",
       "ocean_proximity        object\n",
       "dtype: object"
      ]
     },
     "execution_count": 3,
     "metadata": {},
     "output_type": "execute_result"
    }
   ],
   "source": [
    "#what are our data types\n",
    "df.dtypes"
   ]
  },
  {
   "cell_type": "markdown",
   "metadata": {},
   "source": [
    "#### Data description\n",
    "To get a general overview you can use .describe and make a quick histogram for each column."
   ]
  },
  {
   "cell_type": "code",
   "execution_count": 4,
   "metadata": {
    "scrolled": true
   },
   "outputs": [
    {
     "data": {
      "text/html": [
       "<div>\n",
       "<style scoped>\n",
       "    .dataframe tbody tr th:only-of-type {\n",
       "        vertical-align: middle;\n",
       "    }\n",
       "\n",
       "    .dataframe tbody tr th {\n",
       "        vertical-align: top;\n",
       "    }\n",
       "\n",
       "    .dataframe thead th {\n",
       "        text-align: right;\n",
       "    }\n",
       "</style>\n",
       "<table border=\"1\" class=\"dataframe\">\n",
       "  <thead>\n",
       "    <tr style=\"text-align: right;\">\n",
       "      <th></th>\n",
       "      <th>longitude</th>\n",
       "      <th>latitude</th>\n",
       "      <th>housing_median_age</th>\n",
       "      <th>total_rooms</th>\n",
       "      <th>total_bedrooms</th>\n",
       "      <th>population</th>\n",
       "      <th>households</th>\n",
       "      <th>median_income</th>\n",
       "      <th>median_house_value</th>\n",
       "    </tr>\n",
       "  </thead>\n",
       "  <tbody>\n",
       "    <tr>\n",
       "      <th>count</th>\n",
       "      <td>20640.000000</td>\n",
       "      <td>20640.000000</td>\n",
       "      <td>20640.000000</td>\n",
       "      <td>20640.000000</td>\n",
       "      <td>20433.000000</td>\n",
       "      <td>20640.000000</td>\n",
       "      <td>20640.000000</td>\n",
       "      <td>20640.000000</td>\n",
       "      <td>20640.000000</td>\n",
       "    </tr>\n",
       "    <tr>\n",
       "      <th>mean</th>\n",
       "      <td>-119.569704</td>\n",
       "      <td>35.631861</td>\n",
       "      <td>28.639486</td>\n",
       "      <td>2635.763081</td>\n",
       "      <td>537.870553</td>\n",
       "      <td>1425.476744</td>\n",
       "      <td>499.539680</td>\n",
       "      <td>3.870671</td>\n",
       "      <td>206855.816909</td>\n",
       "    </tr>\n",
       "    <tr>\n",
       "      <th>std</th>\n",
       "      <td>2.003532</td>\n",
       "      <td>2.135952</td>\n",
       "      <td>12.585558</td>\n",
       "      <td>2181.615252</td>\n",
       "      <td>421.385070</td>\n",
       "      <td>1132.462122</td>\n",
       "      <td>382.329753</td>\n",
       "      <td>1.899822</td>\n",
       "      <td>115395.615874</td>\n",
       "    </tr>\n",
       "    <tr>\n",
       "      <th>min</th>\n",
       "      <td>-124.350000</td>\n",
       "      <td>32.540000</td>\n",
       "      <td>1.000000</td>\n",
       "      <td>2.000000</td>\n",
       "      <td>1.000000</td>\n",
       "      <td>3.000000</td>\n",
       "      <td>1.000000</td>\n",
       "      <td>0.499900</td>\n",
       "      <td>14999.000000</td>\n",
       "    </tr>\n",
       "    <tr>\n",
       "      <th>25%</th>\n",
       "      <td>-121.800000</td>\n",
       "      <td>33.930000</td>\n",
       "      <td>18.000000</td>\n",
       "      <td>1447.750000</td>\n",
       "      <td>296.000000</td>\n",
       "      <td>787.000000</td>\n",
       "      <td>280.000000</td>\n",
       "      <td>2.563400</td>\n",
       "      <td>119600.000000</td>\n",
       "    </tr>\n",
       "    <tr>\n",
       "      <th>50%</th>\n",
       "      <td>-118.490000</td>\n",
       "      <td>34.260000</td>\n",
       "      <td>29.000000</td>\n",
       "      <td>2127.000000</td>\n",
       "      <td>435.000000</td>\n",
       "      <td>1166.000000</td>\n",
       "      <td>409.000000</td>\n",
       "      <td>3.534800</td>\n",
       "      <td>179700.000000</td>\n",
       "    </tr>\n",
       "    <tr>\n",
       "      <th>75%</th>\n",
       "      <td>-118.010000</td>\n",
       "      <td>37.710000</td>\n",
       "      <td>37.000000</td>\n",
       "      <td>3148.000000</td>\n",
       "      <td>647.000000</td>\n",
       "      <td>1725.000000</td>\n",
       "      <td>605.000000</td>\n",
       "      <td>4.743250</td>\n",
       "      <td>264725.000000</td>\n",
       "    </tr>\n",
       "    <tr>\n",
       "      <th>max</th>\n",
       "      <td>-114.310000</td>\n",
       "      <td>41.950000</td>\n",
       "      <td>52.000000</td>\n",
       "      <td>39320.000000</td>\n",
       "      <td>6445.000000</td>\n",
       "      <td>35682.000000</td>\n",
       "      <td>6082.000000</td>\n",
       "      <td>15.000100</td>\n",
       "      <td>500001.000000</td>\n",
       "    </tr>\n",
       "  </tbody>\n",
       "</table>\n",
       "</div>"
      ],
      "text/plain": [
       "          longitude      latitude  housing_median_age   total_rooms  \\\n",
       "count  20640.000000  20640.000000        20640.000000  20640.000000   \n",
       "mean    -119.569704     35.631861           28.639486   2635.763081   \n",
       "std        2.003532      2.135952           12.585558   2181.615252   \n",
       "min     -124.350000     32.540000            1.000000      2.000000   \n",
       "25%     -121.800000     33.930000           18.000000   1447.750000   \n",
       "50%     -118.490000     34.260000           29.000000   2127.000000   \n",
       "75%     -118.010000     37.710000           37.000000   3148.000000   \n",
       "max     -114.310000     41.950000           52.000000  39320.000000   \n",
       "\n",
       "       total_bedrooms    population    households  median_income  \\\n",
       "count    20433.000000  20640.000000  20640.000000   20640.000000   \n",
       "mean       537.870553   1425.476744    499.539680       3.870671   \n",
       "std        421.385070   1132.462122    382.329753       1.899822   \n",
       "min          1.000000      3.000000      1.000000       0.499900   \n",
       "25%        296.000000    787.000000    280.000000       2.563400   \n",
       "50%        435.000000   1166.000000    409.000000       3.534800   \n",
       "75%        647.000000   1725.000000    605.000000       4.743250   \n",
       "max       6445.000000  35682.000000   6082.000000      15.000100   \n",
       "\n",
       "       median_house_value  \n",
       "count        20640.000000  \n",
       "mean        206855.816909  \n",
       "std         115395.615874  \n",
       "min          14999.000000  \n",
       "25%         119600.000000  \n",
       "50%         179700.000000  \n",
       "75%         264725.000000  \n",
       "max         500001.000000  "
      ]
     },
     "execution_count": 4,
     "metadata": {},
     "output_type": "execute_result"
    }
   ],
   "source": [
    "df.describe()"
   ]
  },
  {
   "cell_type": "markdown",
   "metadata": {},
   "source": [
    "Looking at the describe output, the data is really clean. The range of values seems consistant within data sets. Although it is not clear what the unit of measure is for median income, (10K per year, 1K per month?) the values have a realtive consistancy. The total_bedrooms seems to have some missing values and we will need to convert the catagorical data for ocean proximity. "
   ]
  },
  {
   "cell_type": "code",
   "execution_count": 5,
   "metadata": {},
   "outputs": [
    {
     "data": {
      "text/plain": [
       "array([[<matplotlib.axes._subplots.AxesSubplot object at 0x0000029272C1DEB8>,\n",
       "        <matplotlib.axes._subplots.AxesSubplot object at 0x0000029272C6F358>,\n",
       "        <matplotlib.axes._subplots.AxesSubplot object at 0x0000029272C97668>],\n",
       "       [<matplotlib.axes._subplots.AxesSubplot object at 0x0000029272CC2978>,\n",
       "        <matplotlib.axes._subplots.AxesSubplot object at 0x0000029272CEAC88>,\n",
       "        <matplotlib.axes._subplots.AxesSubplot object at 0x0000029272CEACC0>],\n",
       "       [<matplotlib.axes._subplots.AxesSubplot object at 0x0000029272D472B0>,\n",
       "        <matplotlib.axes._subplots.AxesSubplot object at 0x0000029272D6E5C0>,\n",
       "        <matplotlib.axes._subplots.AxesSubplot object at 0x0000029272D988D0>]],\n",
       "      dtype=object)"
      ]
     },
     "execution_count": 5,
     "metadata": {},
     "output_type": "execute_result"
    },
    {
     "data": {
      "image/png": "[encoded data removed]",
      "text/plain": [
       "<Figure size 432x288 with 9 Axes>"
      ]
     },
     "metadata": {},
     "output_type": "display_data"
    }
   ],
   "source": [
    "df.hist(bins = (25))"
   ]
  },
  {
   "cell_type": "code",
   "execution_count": 6,
   "metadata": {},
   "outputs": [
    {
     "data": {
      "text/plain": [
       "ISLAND           5\n",
       "NEAR BAY      2290\n",
       "NEAR OCEAN    2658\n",
       "INLAND        6551\n",
       "<1H OCEAN     9136\n",
       "Name: ocean_proximity, dtype: int64"
      ]
     },
     "execution_count": 6,
     "metadata": {},
     "output_type": "execute_result"
    }
   ],
   "source": [
    "df['ocean_proximity'].value_counts(ascending=True)"
   ]
  },
  {
   "cell_type": "code",
   "execution_count": 7,
   "metadata": {},
   "outputs": [],
   "source": [
    "# Convert ocean_proximity to numeric \n",
    "\n",
    "# must be of type catagory\n",
    "df['ocean_proximity'] = df['ocean_proximity'].astype('category')\n",
    "\n",
    "# convert\n",
    "#df['ocean_proximity'] = df['ocean_proximity'].cat.codes.astype('float')\n",
    "#df['ocean_proximity'].value_counts(ascending=True)\n",
    "\n",
    "# Convert using One Hot\n",
    "one_hot = pd.get_dummies(df['ocean_proximity'])\n",
    "df = df.drop('ocean_proximity', axis = 1)\n",
    "df = df.join(one_hot)"
   ]
  },
  {
   "cell_type": "markdown",
   "metadata": {},
   "source": [
    "## Missing Data\n",
    "Do we have missing values? I sum up the number of values that are null and find that this data is really clean with the exception of total_bedrooms. To deal with this we could do two different things. First, I could remove the rows that do not show total_bedrooms, or I could try and add in values. Lets explore this second option."
   ]
  },
  {
   "cell_type": "code",
   "execution_count": 8,
   "metadata": {},
   "outputs": [
    {
     "data": {
      "text/plain": [
       "longitude               0\n",
       "latitude                0\n",
       "housing_median_age      0\n",
       "total_rooms             0\n",
       "total_bedrooms        207\n",
       "population              0\n",
       "households              0\n",
       "median_income           0\n",
       "median_house_value      0\n",
       "<1H OCEAN               0\n",
       "INLAND                  0\n",
       "ISLAND                  0\n",
       "NEAR BAY                0\n",
       "NEAR OCEAN              0\n",
       "dtype: int64"
      ]
     },
     "execution_count": 8,
     "metadata": {},
     "output_type": "execute_result"
    }
   ],
   "source": [
    "df.apply(lambda x: sum(x.isnull()),axis=0)"
   ]
  },
  {
   "cell_type": "markdown",
   "metadata": {},
   "source": [
    "Obviously the total number of bedrooms is based on all housing, not per household."
   ]
  },
  {
   "cell_type": "code",
   "execution_count": 9,
   "metadata": {},
   "outputs": [
    {
     "name": "stdout",
     "output_type": "stream",
     "text": [
      "count    20433.000000\n",
      "mean       537.870553\n",
      "std        421.385070\n",
      "min          1.000000\n",
      "25%        296.000000\n",
      "50%        435.000000\n",
      "75%        647.000000\n",
      "max       6445.000000\n",
      "Name: total_bedrooms, dtype: float64\n"
     ]
    }
   ],
   "source": [
    "orig_br = df['total_bedrooms'].describe()\n",
    "print(orig_br)"
   ]
  },
  {
   "cell_type": "markdown",
   "metadata": {},
   "source": [
    "#### Impute data using kNN\n",
    "I tried various methods for replacing the missing values and have chosen kNN. kNN maintained the standard deviationa and the median. You can see the results of the various options [here](http://localhost:8889/notebooks/repos/SpatialAnalysis_Python/Missing_data.ipynb)"
   ]
  },
  {
   "cell_type": "code",
   "execution_count": 10,
   "metadata": {},
   "outputs": [
    {
     "name": "stderr",
     "output_type": "stream",
     "text": [
      "Using TensorFlow backend.\n"
     ]
    }
   ],
   "source": [
    "# conda install ecos  \n",
    "# conda install CVXcanon  \n",
    "# pip install fancyimpute  \n",
    " \n",
    "from fancyimpute import KNN \n"
   ]
  },
  {
   "cell_type": "code",
   "execution_count": 11,
   "metadata": {},
   "outputs": [],
   "source": [
    "# make a new column and mark missing data.\n",
    "col_names = list(df)\n",
    "\n",
    "for i in col_names:\n",
    "    if df[i].isnull().values.any():\n",
    "        new_name =\"m_\" + i\n",
    "        df[new_name] = df.apply(lambda row: 1 if np.isnan(row[i]) else 0, axis=1)\n",
    "    else:\n",
    "        continue\n"
   ]
  },
  {
   "cell_type": "code",
   "execution_count": 12,
   "metadata": {},
   "outputs": [
    {
     "name": "stdout",
     "output_type": "stream",
     "text": [
      "Imputing row 1/20640 with 0 missing, elapsed time: 61.183\n",
      "Imputing row 101/20640 with 0 missing, elapsed time: 61.184\n",
      "Imputing row 201/20640 with 0 missing, elapsed time: 61.184\n",
      "Imputing row 301/20640 with 0 missing, elapsed time: 61.186\n",
      "Imputing row 401/20640 with 0 missing, elapsed time: 61.186\n",
      "Imputing row 501/20640 with 0 missing, elapsed time: 61.187\n",
      "Imputing row 601/20640 with 0 missing, elapsed time: 61.187\n",
      "Imputing row 701/20640 with 0 missing, elapsed time: 61.188\n",
      "Imputing row 801/20640 with 0 missing, elapsed time: 61.189\n",
      "Imputing row 901/20640 with 0 missing, elapsed time: 61.189\n",
      "Imputing row 1001/20640 with 0 missing, elapsed time: 61.189\n",
      "Imputing row 1101/20640 with 0 missing, elapsed time: 61.190\n",
      "Imputing row 1201/20640 with 0 missing, elapsed time: 61.190\n",
      "Imputing row 1301/20640 with 0 missing, elapsed time: 61.190\n",
      "Imputing row 1401/20640 with 0 missing, elapsed time: 61.191\n",
      "Imputing row 1501/20640 with 0 missing, elapsed time: 61.191\n",
      "Imputing row 1601/20640 with 0 missing, elapsed time: 61.191\n",
      "Imputing row 1701/20640 with 0 missing, elapsed time: 61.192\n",
      "Imputing row 1801/20640 with 0 missing, elapsed time: 61.192\n",
      "Imputing row 1901/20640 with 0 missing, elapsed time: 61.192\n",
      "Imputing row 2001/20640 with 0 missing, elapsed time: 61.192\n",
      "Imputing row 2101/20640 with 0 missing, elapsed time: 61.193\n",
      "Imputing row 2201/20640 with 0 missing, elapsed time: 61.193\n",
      "Imputing row 2301/20640 with 0 missing, elapsed time: 61.193\n",
      "Imputing row 2401/20640 with 0 missing, elapsed time: 61.194\n",
      "Imputing row 2501/20640 with 0 missing, elapsed time: 61.194\n",
      "Imputing row 2601/20640 with 0 missing, elapsed time: 61.194\n",
      "Imputing row 2701/20640 with 0 missing, elapsed time: 61.195\n",
      "Imputing row 2801/20640 with 0 missing, elapsed time: 61.195\n",
      "Imputing row 2901/20640 with 0 missing, elapsed time: 61.195\n",
      "Imputing row 3001/20640 with 0 missing, elapsed time: 61.196\n",
      "Imputing row 3101/20640 with 0 missing, elapsed time: 61.196\n",
      "Imputing row 3201/20640 with 0 missing, elapsed time: 61.196\n",
      "Imputing row 3301/20640 with 0 missing, elapsed time: 61.196\n",
      "Imputing row 3401/20640 with 0 missing, elapsed time: 61.197\n",
      "Imputing row 3501/20640 with 0 missing, elapsed time: 61.197\n",
      "Imputing row 3601/20640 with 0 missing, elapsed time: 61.198\n",
      "Imputing row 3701/20640 with 0 missing, elapsed time: 61.198\n",
      "Imputing row 3801/20640 with 0 missing, elapsed time: 61.198\n",
      "Imputing row 3901/20640 with 0 missing, elapsed time: 61.199\n",
      "Imputing row 4001/20640 with 0 missing, elapsed time: 61.199\n",
      "Imputing row 4101/20640 with 0 missing, elapsed time: 61.200\n",
      "Imputing row 4201/20640 with 0 missing, elapsed time: 61.200\n",
      "Imputing row 4301/20640 with 0 missing, elapsed time: 61.200\n",
      "Imputing row 4401/20640 with 0 missing, elapsed time: 61.201\n",
      "Imputing row 4501/20640 with 0 missing, elapsed time: 61.201\n",
      "Imputing row 4601/20640 with 1 missing, elapsed time: 61.201\n",
      "Imputing row 4701/20640 with 0 missing, elapsed time: 61.202\n",
      "Imputing row 4801/20640 with 0 missing, elapsed time: 61.203\n",
      "Imputing row 4901/20640 with 0 missing, elapsed time: 61.203\n",
      "Imputing row 5001/20640 with 0 missing, elapsed time: 61.203\n",
      "Imputing row 5101/20640 with 0 missing, elapsed time: 61.204\n",
      "Imputing row 5201/20640 with 0 missing, elapsed time: 61.204\n",
      "Imputing row 5301/20640 with 0 missing, elapsed time: 61.205\n",
      "Imputing row 5401/20640 with 0 missing, elapsed time: 61.205\n",
      "Imputing row 5501/20640 with 0 missing, elapsed time: 61.205\n",
      "Imputing row 5601/20640 with 0 missing, elapsed time: 61.205\n",
      "Imputing row 5701/20640 with 0 missing, elapsed time: 61.206\n",
      "Imputing row 5801/20640 with 0 missing, elapsed time: 61.206\n",
      "Imputing row 5901/20640 with 0 missing, elapsed time: 61.206\n",
      "Imputing row 6001/20640 with 0 missing, elapsed time: 61.207\n",
      "Imputing row 6101/20640 with 0 missing, elapsed time: 61.207\n",
      "Imputing row 6201/20640 with 0 missing, elapsed time: 61.207\n",
      "Imputing row 6301/20640 with 0 missing, elapsed time: 61.208\n",
      "Imputing row 6401/20640 with 0 missing, elapsed time: 61.208\n",
      "Imputing row 6501/20640 with 0 missing, elapsed time: 61.209\n",
      "Imputing row 6601/20640 with 0 missing, elapsed time: 61.209\n",
      "Imputing row 6701/20640 with 0 missing, elapsed time: 61.209\n",
      "Imputing row 6801/20640 with 0 missing, elapsed time: 61.209\n",
      "Imputing row 6901/20640 with 0 missing, elapsed time: 61.210\n",
      "Imputing row 7001/20640 with 0 missing, elapsed time: 61.210\n",
      "Imputing row 7101/20640 with 0 missing, elapsed time: 61.211\n",
      "Imputing row 7201/20640 with 0 missing, elapsed time: 61.211\n",
      "Imputing row 7301/20640 with 0 missing, elapsed time: 61.211\n",
      "Imputing row 7401/20640 with 0 missing, elapsed time: 61.212\n",
      "Imputing row 7501/20640 with 0 missing, elapsed time: 61.212\n",
      "Imputing row 7601/20640 with 0 missing, elapsed time: 61.212\n",
      "Imputing row 7701/20640 with 0 missing, elapsed time: 61.213\n",
      "Imputing row 7801/20640 with 0 missing, elapsed time: 61.213\n",
      "Imputing row 7901/20640 with 0 missing, elapsed time: 61.213\n",
      "Imputing row 8001/20640 with 0 missing, elapsed time: 61.214\n",
      "Imputing row 8101/20640 with 0 missing, elapsed time: 61.214\n",
      "Imputing row 8201/20640 with 0 missing, elapsed time: 61.214\n",
      "Imputing row 8301/20640 with 0 missing, elapsed time: 61.214\n",
      "Imputing row 8401/20640 with 0 missing, elapsed time: 61.215\n",
      "Imputing row 8501/20640 with 0 missing, elapsed time: 61.215\n",
      "Imputing row 8601/20640 with 0 missing, elapsed time: 61.215\n",
      "Imputing row 8701/20640 with 0 missing, elapsed time: 61.215\n",
      "Imputing row 8801/20640 with 0 missing, elapsed time: 61.216\n",
      "Imputing row 8901/20640 with 0 missing, elapsed time: 61.216\n",
      "Imputing row 9001/20640 with 0 missing, elapsed time: 61.216\n",
      "Imputing row 9101/20640 with 0 missing, elapsed time: 61.216\n",
      "Imputing row 9201/20640 with 0 missing, elapsed time: 61.217\n",
      "Imputing row 9301/20640 with 0 missing, elapsed time: 61.217\n",
      "Imputing row 9401/20640 with 0 missing, elapsed time: 61.217\n",
      "Imputing row 9501/20640 with 0 missing, elapsed time: 61.217\n",
      "Imputing row 9601/20640 with 0 missing, elapsed time: 61.218\n",
      "Imputing row 9701/20640 with 0 missing, elapsed time: 61.218\n",
      "Imputing row 9801/20640 with 0 missing, elapsed time: 61.218\n",
      "Imputing row 9901/20640 with 0 missing, elapsed time: 61.219\n",
      "Imputing row 10001/20640 with 0 missing, elapsed time: 61.219\n",
      "Imputing row 10101/20640 with 0 missing, elapsed time: 61.219\n",
      "Imputing row 10201/20640 with 0 missing, elapsed time: 61.220\n",
      "Imputing row 10301/20640 with 0 missing, elapsed time: 61.220\n",
      "Imputing row 10401/20640 with 0 missing, elapsed time: 61.221\n",
      "Imputing row 10501/20640 with 0 missing, elapsed time: 61.221\n",
      "Imputing row 10601/20640 with 0 missing, elapsed time: 61.221\n",
      "Imputing row 10701/20640 with 0 missing, elapsed time: 61.221\n",
      "Imputing row 10801/20640 with 0 missing, elapsed time: 61.222\n",
      "Imputing row 10901/20640 with 0 missing, elapsed time: 61.222\n",
      "Imputing row 11001/20640 with 0 missing, elapsed time: 61.222\n",
      "Imputing row 11101/20640 with 0 missing, elapsed time: 61.223\n",
      "Imputing row 11201/20640 with 0 missing, elapsed time: 61.223\n",
      "Imputing row 11301/20640 with 0 missing, elapsed time: 61.223\n",
      "Imputing row 11401/20640 with 0 missing, elapsed time: 61.224\n",
      "Imputing row 11501/20640 with 0 missing, elapsed time: 61.224\n",
      "Imputing row 11601/20640 with 0 missing, elapsed time: 61.224\n",
      "Imputing row 11701/20640 with 0 missing, elapsed time: 61.225\n",
      "Imputing row 11801/20640 with 0 missing, elapsed time: 61.225\n",
      "Imputing row 11901/20640 with 0 missing, elapsed time: 61.225\n",
      "Imputing row 12001/20640 with 0 missing, elapsed time: 61.225\n",
      "Imputing row 12101/20640 with 0 missing, elapsed time: 61.226\n",
      "Imputing row 12201/20640 with 0 missing, elapsed time: 61.226\n",
      "Imputing row 12301/20640 with 0 missing, elapsed time: 61.226\n",
      "Imputing row 12401/20640 with 0 missing, elapsed time: 61.226\n",
      "Imputing row 12501/20640 with 0 missing, elapsed time: 61.227\n",
      "Imputing row 12601/20640 with 0 missing, elapsed time: 61.227\n",
      "Imputing row 12701/20640 with 0 missing, elapsed time: 61.227\n",
      "Imputing row 12801/20640 with 0 missing, elapsed time: 61.227\n",
      "Imputing row 12901/20640 with 0 missing, elapsed time: 61.228\n",
      "Imputing row 13001/20640 with 0 missing, elapsed time: 61.228\n",
      "Imputing row 13101/20640 with 0 missing, elapsed time: 61.228\n",
      "Imputing row 13201/20640 with 0 missing, elapsed time: 61.228\n",
      "Imputing row 13301/20640 with 0 missing, elapsed time: 61.229\n",
      "Imputing row 13401/20640 with 0 missing, elapsed time: 61.229\n",
      "Imputing row 13501/20640 with 0 missing, elapsed time: 61.229\n",
      "Imputing row 13601/20640 with 0 missing, elapsed time: 61.230\n",
      "Imputing row 13701/20640 with 0 missing, elapsed time: 61.230\n",
      "Imputing row 13801/20640 with 0 missing, elapsed time: 61.230\n",
      "Imputing row 13901/20640 with 0 missing, elapsed time: 61.230\n",
      "Imputing row 14001/20640 with 0 missing, elapsed time: 61.231\n",
      "Imputing row 14101/20640 with 0 missing, elapsed time: 61.231\n",
      "Imputing row 14201/20640 with 0 missing, elapsed time: 61.232\n",
      "Imputing row 14301/20640 with 0 missing, elapsed time: 61.232\n",
      "Imputing row 14401/20640 with 0 missing, elapsed time: 61.232\n",
      "Imputing row 14501/20640 with 0 missing, elapsed time: 61.233\n",
      "Imputing row 14601/20640 with 0 missing, elapsed time: 61.233\n",
      "Imputing row 14701/20640 with 0 missing, elapsed time: 61.233\n",
      "Imputing row 14801/20640 with 0 missing, elapsed time: 61.234\n",
      "Imputing row 14901/20640 with 0 missing, elapsed time: 61.234\n",
      "Imputing row 15001/20640 with 0 missing, elapsed time: 61.234\n",
      "Imputing row 15101/20640 with 0 missing, elapsed time: 61.235\n",
      "Imputing row 15201/20640 with 0 missing, elapsed time: 61.235\n",
      "Imputing row 15301/20640 with 0 missing, elapsed time: 61.236\n",
      "Imputing row 15401/20640 with 0 missing, elapsed time: 61.236\n",
      "Imputing row 15501/20640 with 0 missing, elapsed time: 61.236\n",
      "Imputing row 15601/20640 with 0 missing, elapsed time: 61.236\n",
      "Imputing row 15701/20640 with 0 missing, elapsed time: 61.237\n",
      "Imputing row 15801/20640 with 0 missing, elapsed time: 61.237\n",
      "Imputing row 15901/20640 with 0 missing, elapsed time: 61.237\n",
      "Imputing row 16001/20640 with 0 missing, elapsed time: 61.238\n",
      "Imputing row 16101/20640 with 0 missing, elapsed time: 61.238\n",
      "Imputing row 16201/20640 with 0 missing, elapsed time: 61.239\n",
      "Imputing row 16301/20640 with 0 missing, elapsed time: 61.239\n",
      "Imputing row 16401/20640 with 0 missing, elapsed time: 61.239\n",
      "Imputing row 16501/20640 with 0 missing, elapsed time: 61.239\n",
      "Imputing row 16601/20640 with 0 missing, elapsed time: 61.239\n",
      "Imputing row 16701/20640 with 0 missing, elapsed time: 61.240\n",
      "Imputing row 16801/20640 with 0 missing, elapsed time: 61.240\n",
      "Imputing row 16901/20640 with 0 missing, elapsed time: 61.240\n",
      "Imputing row 17001/20640 with 0 missing, elapsed time: 61.241\n",
      "Imputing row 17101/20640 with 0 missing, elapsed time: 61.241\n",
      "Imputing row 17201/20640 with 0 missing, elapsed time: 61.241\n",
      "Imputing row 17301/20640 with 0 missing, elapsed time: 61.242\n",
      "Imputing row 17401/20640 with 0 missing, elapsed time: 61.242\n",
      "Imputing row 17501/20640 with 0 missing, elapsed time: 61.242\n",
      "Imputing row 17601/20640 with 0 missing, elapsed time: 61.242\n",
      "Imputing row 17701/20640 with 0 missing, elapsed time: 61.243\n",
      "Imputing row 17801/20640 with 0 missing, elapsed time: 61.243\n",
      "Imputing row 17901/20640 with 0 missing, elapsed time: 61.243\n",
      "Imputing row 18001/20640 with 0 missing, elapsed time: 61.244\n",
      "Imputing row 18101/20640 with 0 missing, elapsed time: 61.244\n",
      "Imputing row 18201/20640 with 0 missing, elapsed time: 61.244\n",
      "Imputing row 18301/20640 with 0 missing, elapsed time: 61.245\n",
      "Imputing row 18401/20640 with 0 missing, elapsed time: 61.245\n",
      "Imputing row 18501/20640 with 0 missing, elapsed time: 61.246\n",
      "Imputing row 18601/20640 with 0 missing, elapsed time: 61.246\n",
      "Imputing row 18701/20640 with 0 missing, elapsed time: 61.246\n",
      "Imputing row 18801/20640 with 0 missing, elapsed time: 61.246\n",
      "Imputing row 18901/20640 with 0 missing, elapsed time: 61.247\n",
      "Imputing row 19001/20640 with 0 missing, elapsed time: 61.247\n",
      "Imputing row 19101/20640 with 0 missing, elapsed time: 61.247\n",
      "Imputing row 19201/20640 with 0 missing, elapsed time: 61.248\n",
      "Imputing row 19301/20640 with 0 missing, elapsed time: 61.248\n",
      "Imputing row 19401/20640 with 0 missing, elapsed time: 61.249\n",
      "Imputing row 19501/20640 with 0 missing, elapsed time: 61.249\n",
      "Imputing row 19601/20640 with 0 missing, elapsed time: 61.249\n",
      "Imputing row 19701/20640 with 0 missing, elapsed time: 61.250\n",
      "Imputing row 19801/20640 with 0 missing, elapsed time: 61.250\n",
      "Imputing row 19901/20640 with 0 missing, elapsed time: 61.251\n",
      "Imputing row 20001/20640 with 0 missing, elapsed time: 61.251\n",
      "Imputing row 20101/20640 with 0 missing, elapsed time: 61.252\n",
      "Imputing row 20201/20640 with 0 missing, elapsed time: 61.252\n",
      "Imputing row 20301/20640 with 0 missing, elapsed time: 61.252\n",
      "Imputing row 20401/20640 with 0 missing, elapsed time: 61.253\n",
      "Imputing row 20501/20640 with 0 missing, elapsed time: 61.253\n",
      "Imputing row 20601/20640 with 0 missing, elapsed time: 61.253\n"
     ]
    }
   ],
   "source": [
    "# I now run fancyimpute KNN, \n",
    "# it returns a np.array which I store as a pandas dataframe, I need to capture the column names and add them back in at the end.\n",
    "col_names = list(df)\n",
    "\n",
    "df = pd.DataFrame(KNN(3).complete(df))\n",
    "\n",
    "df.columns=col_names"
   ]
  },
  {
   "cell_type": "markdown",
   "metadata": {},
   "source": [
    "KNN does a pretty good job of maintaining the standard deviation and median."
   ]
  },
  {
   "cell_type": "code",
   "execution_count": 13,
   "metadata": {},
   "outputs": [
    {
     "name": "stdout",
     "output_type": "stream",
     "text": [
      "KNN\n",
      "count    20640.000000\n",
      "mean       537.584012\n",
      "std        420.509778\n",
      "min          1.000000\n",
      "25%        296.000000\n",
      "50%        435.000000\n",
      "75%        647.000000\n",
      "max       6445.000000\n",
      "Name: total_bedrooms, dtype: float64\n",
      "\n",
      "Original\n",
      "count    20433.000000\n",
      "mean       537.870553\n",
      "std        421.385070\n",
      "min          1.000000\n",
      "25%        296.000000\n",
      "50%        435.000000\n",
      "75%        647.000000\n",
      "max       6445.000000\n",
      "Name: total_bedrooms, dtype: float64\n"
     ]
    }
   ],
   "source": [
    "print('KNN')\n",
    "print(df['total_bedrooms'].describe())\n",
    "print(\"\")\n",
    "print('Original')\n",
    "print(orig_br)\n"
   ]
  },
  {
   "cell_type": "markdown",
   "metadata": {},
   "source": [
    "#### Derived Data\n",
    "I want to derive some data and make mean rooms, mean bedrooms, population per household and beadrooms per room."
   ]
  },
  {
   "cell_type": "code",
   "execution_count": 32,
   "metadata": {},
   "outputs": [],
   "source": [
    "# create derived data\n",
    "df['mean_bedrooms'] = (df['total_bedrooms'] / df['households'])\n",
    "df['mean_rooms'] = (df['total_rooms'] / df['households'])\n",
    "df['pop_house'] = (df['population'] / df['households'])\n",
    "df['bedrooms_room'] = (df['total_bedrooms']/df['total_rooms'])\n",
    "\n",
    "df = df.drop(['total_bedrooms','total_rooms','population'], axis = 1)"
   ]
  },
  {
   "cell_type": "code",
   "execution_count": 33,
   "metadata": {},
   "outputs": [
    {
     "data": {
      "text/plain": [
       "longitude             float64\n",
       "latitude              float64\n",
       "housing_median_age    float64\n",
       "households            float64\n",
       "median_income         float64\n",
       "median_house_value    float64\n",
       "<1H OCEAN             float64\n",
       "INLAND                float64\n",
       "ISLAND                float64\n",
       "NEAR BAY              float64\n",
       "NEAR OCEAN            float64\n",
       "m_total_bedrooms      float64\n",
       "mean_bedrooms         float64\n",
       "mean_rooms            float64\n",
       "pop_house             float64\n",
       "bedrooms_room         float64\n",
       "dtype: object"
      ]
     },
     "execution_count": 33,
     "metadata": {},
     "output_type": "execute_result"
    }
   ],
   "source": [
    "df.dtypes"
   ]
  },
  {
   "cell_type": "markdown",
   "metadata": {},
   "source": [
    "## Median House Value\n",
    "This is our dependent variable and so I want to take a closer look. To do this we will create a series. You can find out more about series and dataframes here: https://pandas.pydata.org/pandas-docs/version/0.22.0/dsintro.html  A series is a labeled array capable of holding any data type. The series does not include the column name, just the data."
   ]
  },
  {
   "cell_type": "code",
   "execution_count": 34,
   "metadata": {},
   "outputs": [
    {
     "data": {
      "text/plain": [
       "0    452600.0\n",
       "1    358500.0\n",
       "2    352100.0\n",
       "3    341300.0\n",
       "4    342200.0\n",
       "Name: median_house_value, dtype: float64"
      ]
     },
     "execution_count": 34,
     "metadata": {},
     "output_type": "execute_result"
    }
   ],
   "source": [
    "\n",
    "colSeries = df[col_name]\n",
    "colSeries.head(5)\n"
   ]
  },
  {
   "cell_type": "markdown",
   "metadata": {},
   "source": [
    "#### Describe\n",
    "The first function we will run is describe. This will give you a series with a set of standard descriptive statistics. It is great for a quick overview but to use the data you then have to use series.get() "
   ]
  },
  {
   "cell_type": "code",
   "execution_count": 35,
   "metadata": {},
   "outputs": [
    {
     "name": "stdout",
     "output_type": "stream",
     "text": [
      "count     20640.000000\n",
      "mean     206855.816909\n",
      "std      115395.615874\n",
      "min       14999.000000\n",
      "25%      119600.000000\n",
      "50%      179700.000000\n",
      "75%      264725.000000\n",
      "max      500001.000000\n",
      "Name: median_house_value, dtype: float64\n"
     ]
    },
    {
     "data": {
      "text/plain": [
       "pandas.core.series.Series"
      ]
     },
     "execution_count": 35,
     "metadata": {},
     "output_type": "execute_result"
    }
   ],
   "source": [
    "col_describe = colSeries.describe()\n",
    "print(col_describe)\n",
    "type(col_describe)"
   ]
  },
  {
   "cell_type": "code",
   "execution_count": 18,
   "metadata": {},
   "outputs": [],
   "source": [
    "col_count = col_describe.get('count')"
   ]
  },
  {
   "cell_type": "markdown",
   "metadata": {},
   "source": [
    "#### Mean, Median, and Mode\n",
    "It may be easier to get the data using individual functions. The great thing about dataframes and series is there is no need to loop over the data."
   ]
  },
  {
   "cell_type": "code",
   "execution_count": 19,
   "metadata": {},
   "outputs": [
    {
     "name": "stdout",
     "output_type": "stream",
     "text": [
      "206855.81690891474\n"
     ]
    }
   ],
   "source": [
    "col_mean = colSeries.mean()\n",
    "print(col_mean)"
   ]
  },
  {
   "cell_type": "code",
   "execution_count": 20,
   "metadata": {},
   "outputs": [
    {
     "name": "stdout",
     "output_type": "stream",
     "text": [
      "179700.0\n"
     ]
    }
   ],
   "source": [
    "col_median = colSeries.median()\n",
    "print(col_median)"
   ]
  },
  {
   "cell_type": "code",
   "execution_count": 21,
   "metadata": {},
   "outputs": [
    {
     "name": "stdout",
     "output_type": "stream",
     "text": [
      "0    500001.0\n",
      "dtype: float64\n"
     ]
    }
   ],
   "source": [
    "# I don't understand this\n",
    "col_mode = colSeries.mode()\n",
    "print(col_mode)"
   ]
  },
  {
   "cell_type": "markdown",
   "metadata": {},
   "source": [
    "#### Min and Max\n",
    "You can also collect the minimum value and the maximum value in a series."
   ]
  },
  {
   "cell_type": "code",
   "execution_count": 22,
   "metadata": {},
   "outputs": [
    {
     "name": "stdout",
     "output_type": "stream",
     "text": [
      "14999.0\n"
     ]
    }
   ],
   "source": [
    "col_min = colSeries.min()\n",
    "print(col_min)"
   ]
  },
  {
   "cell_type": "code",
   "execution_count": 23,
   "metadata": {},
   "outputs": [
    {
     "name": "stdout",
     "output_type": "stream",
     "text": [
      "500001.0\n"
     ]
    }
   ],
   "source": [
    "col_max = colSeries.max()\n",
    "print(col_max)"
   ]
  },
  {
   "cell_type": "markdown",
   "metadata": {},
   "source": [
    "#### Standard deviation, Quantiles, Variance, and Skew"
   ]
  },
  {
   "cell_type": "code",
   "execution_count": 24,
   "metadata": {},
   "outputs": [
    {
     "name": "stdout",
     "output_type": "stream",
     "text": [
      "115395.61587441387\n"
     ]
    }
   ],
   "source": [
    "col_std = colSeries.std()\n",
    "print(col_std)"
   ]
  },
  {
   "cell_type": "code",
   "execution_count": 25,
   "metadata": {},
   "outputs": [
    {
     "name": "stdout",
     "output_type": "stream",
     "text": [
      "0.25    119600.0\n",
      "0.50    179700.0\n",
      "0.75    264725.0\n",
      "Name: median_house_value, dtype: float64\n"
     ]
    }
   ],
   "source": [
    "col_qtiles = colSeries.quantile([.25, .5, .75])\n",
    "print(col_qtiles)\n",
    "\n",
    "pct25 = (col_qtiles.get(0.25))\n",
    "pct50 = (col_qtiles.get(0.50))\n",
    "pct75 = (col_qtiles.get(0.75))"
   ]
  },
  {
   "cell_type": "code",
   "execution_count": 26,
   "metadata": {},
   "outputs": [
    {
     "data": {
      "text/plain": [
       "13316148163.035278"
      ]
     },
     "execution_count": 26,
     "metadata": {},
     "output_type": "execute_result"
    }
   ],
   "source": [
    "colSeries.var()"
   ]
  },
  {
   "cell_type": "code",
   "execution_count": 27,
   "metadata": {},
   "outputs": [
    {
     "data": {
      "text/plain": [
       "0.9777632739098341"
      ]
     },
     "execution_count": 27,
     "metadata": {},
     "output_type": "execute_result"
    }
   ],
   "source": [
    "colSeries.skew()"
   ]
  },
  {
   "cell_type": "markdown",
   "metadata": {},
   "source": [
    "# Graphing\n",
    "Now that we have the descriptive statistics we can graph our data and look at it. To do this we will use Matplotlib and some numpy functions. The main tools we will use are boxplot and the histogram function. More information on histograms can be found here: https://matplotlib.org/api/_as_gen/matplotlib.pyplot.hist.html#matplotlib.pyplot.hist"
   ]
  },
  {
   "cell_type": "code",
   "execution_count": 28,
   "metadata": {},
   "outputs": [],
   "source": [
    "%matplotlib inline\n",
    "import matplotlib\n",
    "import numpy as np\n",
    "import matplotlib.pyplot as plt"
   ]
  },
  {
   "cell_type": "code",
   "execution_count": 29,
   "metadata": {},
   "outputs": [
    {
     "data": {
      "text/plain": [
       "Text(0.6,400000,'Median House Value')"
      ]
     },
     "execution_count": 29,
     "metadata": {},
     "output_type": "execute_result"
    },
    {
     "data": {
      "image/png": "[encoded data removed]",
      "text/plain": [
       "<Figure size 576x576 with 1 Axes>"
      ]
     },
     "metadata": {},
     "output_type": "display_data"
    }
   ],
   "source": [
    "# this creates a boxplot \n",
    "df.boxplot(column=\"median_house_value\",\n",
    "               return_type='axes',\n",
    "               figsize=(8,8))\n",
    "# this puts all the fancy labels in place.  I use the varialbes we \n",
    "# made above to set the label placement on the Y axis.\n",
    "plt.text(x=0.74, y=pct75, s=\"3rd Quartile\")\n",
    "plt.text(x=0.8, y=col_median, s=\"Median\")\n",
    "plt.text(x=0.75, y=pct25, s=\"1st Quartile\")\n",
    "plt.text(x=0.9, y=col_min, s=\"Min\")\n",
    "plt.text(x=0.9, y=col_max, s=\"Max\")\n",
    "plt.text(x=0.6, y=400000, s=\"Median House Value\", rotation=90, size=25)"
   ]
  },
  {
   "cell_type": "code",
   "execution_count": 30,
   "metadata": {},
   "outputs": [
    {
     "data": {
      "image/png": "[encoded data removed]",
      "text/plain": [
       "<Figure size 432x288 with 1 Axes>"
      ]
     },
     "metadata": {},
     "output_type": "display_data"
    }
   ],
   "source": [
    "# fancy graph\n",
    "\n",
    "mu = colSeries.mean()  # mean of distribution\n",
    "sig = colSeries.std()  # standard deviation of distribution\n",
    "x = colSeries\n",
    "\n",
    "num_bins = 25\n",
    "\n",
    "fig, ax = plt.subplots()\n",
    "\n",
    "# the histogram of the data\n",
    "n, bins, patches = ax.hist(x, num_bins, density=1)\n",
    "\n",
    "# these next two line create the mean and median lines\n",
    "plt.axvline(col_mean, color='k', linestyle='dashed', linewidth=2, label='mean')\n",
    "plt.axvline(col_median, color='r', linestyle='dashed', linewidth=2, label='median')\n",
    "\n",
    "# add a 'best fit' line\n",
    "y = ((1 / (np.sqrt(2 * np.pi) * sig)) *\n",
    "     np.exp(-0.5 * (1 / sig * (bins - mu))**2))\n",
    "ax.plot(bins, y, '--')\n",
    "ax.set_xlabel('Median Home Value')\n",
    "ax.set_ylabel('Probability density')\n",
    "ax.set_title(r'Histogram of MHV: $\\mu=%s$, $\\sigma=%s$'%(round(mu, 2), round(sig, 2)))\n",
    "\n",
    "\n",
    "# this creates the legend and includes all labels\n",
    "plt.legend(loc='upper right')\n",
    "\n",
    "# Tweak spacing to prevent clipping of ylabel\n",
    "fig.tight_layout()\n",
    "plt.show()"
   ]
  },
  {
   "cell_type": "markdown",
   "metadata": {},
   "source": []
  },
  {
   "cell_type": "markdown",
   "metadata": {},
   "source": [
    "This ends the data cleaning and descriptive statistics. Now lets write out a new csv we can work with in our next step where we make some maps."
   ]
  },
  {
   "cell_type": "code",
   "execution_count": 36,
   "metadata": {},
   "outputs": [],
   "source": [
    "df.to_csv('data/housing_clean.csv')"
   ]
  },
  {
   "cell_type": "code",
   "execution_count": null,
   "metadata": {},
   "outputs": [],
   "source": []
  }
 ],
 "metadata": {
  "kernelspec": {
   "display_name": "Python 3",
   "language": "python",
   "name": "python3"
  },
  "language_info": {
   "codemirror_mode": {
    "name": "ipython",
    "version": 3
   },
   "file_extension": ".py",
   "mimetype": "text/x-python",
   "name": "python",
   "nbconvert_exporter": "python",
   "pygments_lexer": "ipython3",
   "version": "3.6.5"
  }
 },
 "nbformat": 4,
 "nbformat_minor": 2
}
