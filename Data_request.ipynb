{
 "cells": [
  {
   "cell_type": "code",
   "execution_count": 12,
   "metadata": {},
   "outputs": [],
   "source": [
    "import psycopg2"
   ]
  },
  {
   "cell_type": "code",
   "execution_count": 34,
   "metadata": {},
   "outputs": [],
   "source": [
    "import pickle\n",
    "#mypw=\"xxxxx\"\n",
    "#pickle.dump( mypw, open( \"psqlPW.p\", \"wb\" ) )\n",
    "psqlPW = pickle.load( open( \"psqlPW.p\", \"rb\" ) )"
   ]
  },
  {
   "cell_type": "code",
   "execution_count": 35,
   "metadata": {},
   "outputs": [],
   "source": [
    "connection = psycopg2.connect(database=\"pythonspatial\", user=\"postgres\", password=psqlPW, port=\"5433\")"
   ]
  },
  {
   "cell_type": "code",
   "execution_count": 37,
   "metadata": {},
   "outputs": [],
   "source": [
    "# connect to database and create a table\n",
    "cursor = connection.cursor()\n",
    "#cursor.execute(\"CREATE TABLE art_pieces (id serial PRIMARY KEY, code varchar(255), location GEOMETRY)\")\n",
    "#connection.commit"
   ]
  },
  {
   "cell_type": "code",
   "execution_count": 23,
   "metadata": {},
   "outputs": [],
   "source": [
    "import requests, json"
   ]
  },
  {
   "cell_type": "markdown",
   "metadata": {},
   "source": [
    "below we get a URL for a data feature. The 11 at the end is the ID of the data we want, in this case it is ground water monitoring sites. We will then create our query and define the the output type of json and the output fields. Finally we make our request. a resource for rest servers is here: https://mappingsupport.com/p/surf_gis/list-federal-state-county-city-GIS-servers.pdf"
   ]
  },
  {
   "cell_type": "markdown",
   "metadata": {},
   "source": [
    "\n",
    "inFeatures = \"https://geodata.state.nj.us/arcgis/rest/services/Features/Environmental/MapServer/11/query\"\n",
    "json_payload = { 'where': 'acres > 5','f': 'json', 'outFields': 'latitude,longitude,incidentname,acres'}\n",
    "r = requests.get(inFeatures, params=json_payload)\n",
    "print r.text"
   ]
  },
  {
   "cell_type": "code",
   "execution_count": 16,
   "metadata": {},
   "outputs": [],
   "source": [
    "url='http://coagisweb.cabq.gov/arcgis/rest/services/public/PublicArt/MapServer/0/query'\n",
    "params={\"where\":\"1=1\",\"outFields\":\"*\",\"outSR\":\"4326\",\"f\":\"json\"}\n",
    "r=requests.get(url, params=params)\n",
    "data=r.json()\n"
   ]
  },
  {
   "cell_type": "code",
   "execution_count": 24,
   "metadata": {},
   "outputs": [
    {
     "data": {
      "text/plain": [
       "{'attributes': {'OBJECTID': 1095217,\n",
       "  'ART_CODE': '101',\n",
       "  'TITLE': 'Almond Blossom/Astronomy',\n",
       "  'TYPE': 'public sculpture',\n",
       "  'YEAR': '1986',\n",
       "  'ARTIST': 'David Anderson',\n",
       "  'ADDRESS': '4440 Osuna NE',\n",
       "  'LOCATION': 'Osuna Median bet.Jefferson/ W.Frontage Rd',\n",
       "  'X': -106.5918383,\n",
       "  'Y': 35.1555,\n",
       "  'IMAGE_URL': 'http://www.flickr.com/photos/abqpublicart/6831137393/',\n",
       "  'JPG_URL': 'http://farm8.staticflickr.com/7153/6831137393_fa38634fd7_m.jpg'},\n",
       " 'geometry': {'x': -106.59183830022498, 'y': 35.155500000061544}}"
      ]
     },
     "execution_count": 24,
     "metadata": {},
     "output_type": "execute_result"
    }
   ],
   "source": [
    "data[\"features\"][0]"
   ]
  },
  {
   "cell_type": "code",
   "execution_count": 30,
   "metadata": {},
   "outputs": [],
   "source": [
    "for a in data[\"features\"]:\n",
    "    code=a[\"attributes\"][\"ART_CODE\"]\n",
    "    wkt=\"POINT(\"+str(a[\"geometry\"][\"x\"])+\" \"+str(a[\"geometry\"][\"y\"])+\")\"\n",
    "    if a[\"geometry\"][\"x\"]=='NaN':\n",
    "        pass\n",
    "    else:\n",
    "        cursor.execute(\"INSERT INTO art_pieces (code, location) VALUES({}, ST_GeomFromText('{}'))\".format(code, wkt))\n",
    "        \n",
    "connection.commit()"
   ]
  },
  {
   "cell_type": "code",
   "execution_count": 38,
   "metadata": {},
   "outputs": [],
   "source": [
    "connection.close()"
   ]
  },
  {
   "cell_type": "code",
   "execution_count": null,
   "metadata": {},
   "outputs": [],
   "source": []
  }
 ],
 "metadata": {
  "kernelspec": {
   "display_name": "Python 3",
   "language": "python",
   "name": "python3"
  },
  "language_info": {
   "codemirror_mode": {
    "name": "ipython",
    "version": 3
   },
   "file_extension": ".py",
   "mimetype": "text/x-python",
   "name": "python",
   "nbconvert_exporter": "python",
   "pygments_lexer": "ipython3",
   "version": "3.6.5"
  }
 },
 "nbformat": 4,
 "nbformat_minor": 2
}
